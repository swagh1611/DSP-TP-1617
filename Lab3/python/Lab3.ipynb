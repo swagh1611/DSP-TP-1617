{
 "cells": [
  {
   "cell_type": "markdown",
   "metadata": {},
   "source": [
    "# Digital Signal Processing\n",
    "## Convolution and Correlation\n",
    "\n",
    "### MsCV - ViBOT - MAIA"
   ]
  },
  {
   "cell_type": "code",
   "execution_count": 4,
   "metadata": {
    "collapsed": false
   },
   "outputs": [
    {
     "name": "stdout",
     "output_type": "stream",
     "text": [
      "Pretty printing has been turned ON\n"
     ]
    }
   ],
   "source": [
    "%matplotlib inline\n",
    "%pprint off\n",
    "\n",
    "# To make some nice plot\n",
    "import matplotlib.pyplot as plt\n",
    "# To play with arrays\n",
    "import numpy as np\n",
    "from skimage import io\n",
    "from skimage import img_as_float\n",
    "from matplotlib import cm\n",
    "from array import array"
   ]
  },
  {
   "cell_type": "markdown",
   "metadata": {
    "collapsed": true
   },
   "source": [
    "## Exercise 1- 1D Convolution\n",
    "\n",
    "**1.1** Defining a signal $x$ and an impulse response $h$ as parameters, write a program `conv_fn` to compute the convolution product $y=h*x$. Do not use the python or matlab function and just consider zero padding to solve the border problem.\n",
    "\n",
    "**1.2** Test your function, while using the following signal ($x[n] = \\{\\underline{1},2,3,4\\}$) and following filters, ($\\delta[k]$, $H[k]$, $e^{k}$, and $h = \\{-1, 1\\}$), respectively.\n",
    "\n",
    "**1.3** Consider the previous input signal, write it's extended version while considering `symmetry`, `periodic` and `constant values` padding and $h = H[k-5]$\n",
    "\n"
   ]
  },
  {
   "cell_type": "code",
   "execution_count": 168,
   "metadata": {
    "collapsed": false
   },
   "outputs": [],
   "source": [
    "def conv_fn(x,h):\n",
    "    #f = np.append([0,0,0,0,1,x,0,0,0,0])\n",
    "    r = np.zeros(len(x)+2*len(h))\n",
    "    f = np.zeros(len(x)+2*len(h))\n",
    "    g = np.zeros(len(x)+2*len(h))\n",
    "    g[0:len(h)] = h.copy()\n",
    "    f[len(h):len(h)+len(x)] = x.copy()\n",
    "    #print g\n",
    "    #print f\n",
    "    for k in range(len(g)):\n",
    "        c = []\n",
    "        for p in range(len(g)):\n",
    "            r[k] = r[k] + (f[p] * g[k-p])\n",
    "            c.append(g[k-p])\n",
    "            \n",
    "            \n",
    "        print c \n",
    "        print f\n",
    "    return r\n",
    "\n",
    "\n",
    "#Impulse\n",
    "def dirac(n=0, N=20):\n",
    "    if n> N-1:\n",
    "        raise ValueError('n should be inferior to N-1')\n",
    "        \n",
    "        \n",
    "    s = np.zeros((N,))\n",
    "    s[n] = 1\n",
    "    \n",
    "    return s\n",
    "\n",
    "#H(k)\n",
    "\n",
    "def unit(n=0, N=20):\n",
    "    if n> N-1:\n",
    "        raise ValueError('n should be inferior to N-1')\n",
    "        \n",
    "        \n",
    "    u = np.zeros((N,))\n",
    "    \n",
    "    u[n : N] =1\n",
    "    \n",
    "    return u\n"
   ]
  },
  {
   "cell_type": "code",
   "execution_count": 169,
   "metadata": {
    "collapsed": false
   },
   "outputs": [
    {
     "name": "stdout",
     "output_type": "stream",
     "text": [
      "[ 1.  1.  1.  1.]\n",
      "[1.0, 0.0, 0.0, 0.0, 0.0, 0.0, 0.0, 0.0, 0.0, 1.0, 1.0, 1.0]\n",
      "[ 0.  0.  0.  0.  1.  2.  3.  4.  0.  0.  0.  0.]\n",
      "[1.0, 1.0, 0.0, 0.0, 0.0, 0.0, 0.0, 0.0, 0.0, 0.0, 1.0, 1.0]\n",
      "[ 0.  0.  0.  0.  1.  2.  3.  4.  0.  0.  0.  0.]\n",
      "[1.0, 1.0, 1.0, 0.0, 0.0, 0.0, 0.0, 0.0, 0.0, 0.0, 0.0, 1.0]\n",
      "[ 0.  0.  0.  0.  1.  2.  3.  4.  0.  0.  0.  0.]\n",
      "[1.0, 1.0, 1.0, 1.0, 0.0, 0.0, 0.0, 0.0, 0.0, 0.0, 0.0, 0.0]\n",
      "[ 0.  0.  0.  0.  1.  2.  3.  4.  0.  0.  0.  0.]\n",
      "[0.0, 1.0, 1.0, 1.0, 1.0, 0.0, 0.0, 0.0, 0.0, 0.0, 0.0, 0.0]\n",
      "[ 0.  0.  0.  0.  1.  2.  3.  4.  0.  0.  0.  0.]\n",
      "[0.0, 0.0, 1.0, 1.0, 1.0, 1.0, 0.0, 0.0, 0.0, 0.0, 0.0, 0.0]\n",
      "[ 0.  0.  0.  0.  1.  2.  3.  4.  0.  0.  0.  0.]\n",
      "[0.0, 0.0, 0.0, 1.0, 1.0, 1.0, 1.0, 0.0, 0.0, 0.0, 0.0, 0.0]\n",
      "[ 0.  0.  0.  0.  1.  2.  3.  4.  0.  0.  0.  0.]\n",
      "[0.0, 0.0, 0.0, 0.0, 1.0, 1.0, 1.0, 1.0, 0.0, 0.0, 0.0, 0.0]\n",
      "[ 0.  0.  0.  0.  1.  2.  3.  4.  0.  0.  0.  0.]\n",
      "[0.0, 0.0, 0.0, 0.0, 0.0, 1.0, 1.0, 1.0, 1.0, 0.0, 0.0, 0.0]\n",
      "[ 0.  0.  0.  0.  1.  2.  3.  4.  0.  0.  0.  0.]\n",
      "[0.0, 0.0, 0.0, 0.0, 0.0, 0.0, 1.0, 1.0, 1.0, 1.0, 0.0, 0.0]\n",
      "[ 0.  0.  0.  0.  1.  2.  3.  4.  0.  0.  0.  0.]\n",
      "[0.0, 0.0, 0.0, 0.0, 0.0, 0.0, 0.0, 1.0, 1.0, 1.0, 1.0, 0.0]\n",
      "[ 0.  0.  0.  0.  1.  2.  3.  4.  0.  0.  0.  0.]\n",
      "[0.0, 0.0, 0.0, 0.0, 0.0, 0.0, 0.0, 0.0, 1.0, 1.0, 1.0, 1.0]\n",
      "[ 0.  0.  0.  0.  1.  2.  3.  4.  0.  0.  0.  0.]\n",
      "[  0.   0.   0.   0.   1.   3.   6.  10.   9.   7.   4.   0.]\n",
      "[  1.   3.   6.  10.   9.   7.   4.]\n"
     ]
    }
   ],
   "source": [
    "\n",
    "x = np.array([1,2,3,4])\n",
    "#conv_fn(x,dirac(5))\n",
    "print unit(0,4)\n",
    "y = conv_fn(x,unit(0,4))\n",
    "print y\n",
    "y = np.convolve(x,unit(0,4))\n",
    "print y"
   ]
  },
  {
   "cell_type": "markdown",
   "metadata": {
    "collapsed": false
   },
   "source": [
    "## Exercise 2- 2D Convolution\n",
    "\n",
    "**2.1** Define a 2D convolution function (Only consider zero-padding the image)\n",
    "\n",
    "**2.2** Using your function, smooth the `lena` image with the following Gaussian kernel:\n",
    "$$ K = \\frac{1.}{256}\\begin{bmatrix} 1 & 4 & 6 & 4 & 1 \\\\ 4 & 16 & 24 & 16 & 4 \\\\ 6 & 24 & 36 & 24 & 6 \\\\ 4 & 16 & 24 & 16 & 4 \\\\ 1 & 4 & 6 & 4 & 1 \\end{bmatrix}$$\n",
    "\n",
    "**2.3** Apply sobel filtering using convolution\n"
   ]
  },
  {
   "cell_type": "code",
   "execution_count": 10,
   "metadata": {
    "collapsed": false
   },
   "outputs": [],
   "source": []
  },
  {
   "cell_type": "code",
   "execution_count": 12,
   "metadata": {
    "collapsed": false
   },
   "outputs": [],
   "source": []
  },
  {
   "cell_type": "code",
   "execution_count": null,
   "metadata": {
    "collapsed": false
   },
   "outputs": [],
   "source": []
  },
  {
   "cell_type": "markdown",
   "metadata": {
    "collapsed": true
   },
   "source": [
    "## Exercise 3 - Character recognition using cross-correlation\n",
    "\n",
    "**3.1** load `a.png` and `text.png` images and binarized them using [`threshold_otsu`](http://scikit-image.org/docs/dev/api/skimage.filters.html?highlight=filters#skimage.filters.threshold_otsu)\n",
    "\n",
    "**3.2** Use [`signal.correlate2d`](https://docs.scipy.org/doc/scipy-0.18.1/reference/generated/scipy.signal.correlate2d.html#scipy.signal.correlate2d) from `scipy` to correlate your binarized images.\n",
    "**Note, signal correspond to the bright pixels within and image (invert your masks)**\n",
    "\n",
    "**3.3** Find the first 10 characters recognized as `a`."
   ]
  },
  {
   "cell_type": "code",
   "execution_count": null,
   "metadata": {
    "collapsed": false
   },
   "outputs": [],
   "source": []
  },
  {
   "cell_type": "code",
   "execution_count": 21,
   "metadata": {
    "collapsed": false
   },
   "outputs": [],
   "source": []
  },
  {
   "cell_type": "code",
   "execution_count": null,
   "metadata": {
    "collapsed": false
   },
   "outputs": [],
   "source": []
  }
 ],
 "metadata": {
  "anaconda-cloud": {},
  "kernelspec": {
   "display_name": "Python 2",
   "language": "python",
   "name": "python2"
  },
  "language_info": {
   "codemirror_mode": {
    "name": "ipython",
    "version": 2
   },
   "file_extension": ".py",
   "mimetype": "text/x-python",
   "name": "python",
   "nbconvert_exporter": "python",
   "pygments_lexer": "ipython2",
   "version": "2.7.10"
  }
 },
 "nbformat": 4,
 "nbformat_minor": 1
}
